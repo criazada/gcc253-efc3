{
 "cells": [
  {
   "cell_type": "markdown",
   "metadata": {},
   "source": [
    "# EFC3 GCC253 - Complexidade e Projeto de Algoritmos\n",
    "\n",
    "**Prof.**: Douglas H. S. Abreu\n",
    "\n",
    "**Alunos**:\n",
    "- Iago Manoel Brito de Sá Vaz da Silva - 202010135\n",
    "- Vinícius Caputo de Castro - 202011042\n",
    "\n",
    "**Turma**: 10A"
   ]
  },
  {
   "cell_type": "markdown",
   "metadata": {},
   "source": [
    "# Exercício 1\n",
    "\n",
    "1 - Um problema computacional é polinomial se existe um algoritmo polinomial para o problema. Um problema é não polinomial se não existe algoritmo polinomial que resolva o problema. Para resolver uma instância de um problema desse tipo, o melhor que se pode fazer é testar todos os \"candidatos a solução\" da instância. Um problema X é  NP-difícil  se todos os problemas da classe NP são polinomialmente redutíveis a X, isto é, se X ≽ Y para todo Y em NP.  Um problema é  NP-completo  se for NP-difícil e estiver em NP.\n",
    "Ex : Subset-Sum:  Dados números naturais p1, … , pn e c, decidir se existe um subconjunto K de {1, … , n} tal que a soma ∑ (pk : k ∈ K) seja igual a c.\n",
    "Circuito-Hamiltoniano:  Dado um grafo, decidir se o grafo tem um circuito simples que passa por todos os vértices.\n",
    "\n",
    "a) Um problema computacional é um objeto matemático que representa um coleção de questões que computadores talvez queiram resolve \n",
    "Os problemas de decisão são aqueles que admitem apenas dois tipos de solução: sim e não. \n",
    "ex: Quadrado-Perfeito:  Dado um número natural n, decidir se o número √n é natural, ou seja, decidir se existe um número natural x tal que x² = n.\n",
    "Fatoração:  Decidir se um número natural n é composto, ou seja, decidir se existe um número natural p que divide n e satisfaz as desigualdades 1 < p < n.\n",
    "\n",
    "Já um problema de otimização é aquele onde se procura determinar os valores extremos de uma função, isto é, o maior ou o menor valor que uma função pode assumir em um dado intervalo. \n",
    "\n",
    "b)\n",
    "algoritmo é uma sequência finita de ações executáveis que visam obter uma solução para um determinado tipo de problema.\n",
    "\n",
    "A avaliação de desempenho de um algoritmo quanto executado por um computador pode ser feita a posteriori ou a priori. Uma avaliação a posteriori envolve a execução propriamente dita do algoritmo, medindo-se o tempo de execução. Já uma avaliação a priori de um algoritmo, feita sem sua execução, de forma analítica, é possível se considerarmos dois itens: a entrada (os dados fornecidos) e o número de instruções executadas pelo algoritmo.\n",
    "\n",
    "Tamanho é o número de dados que servirão de entrada para o algoritmo.\n",
    "\n",
    "\n",
    "c) Sim pois ela está dentro da classe NP e a classe NP de  problemas é o conjunto dos problemas de decisão que são polinomialmente verificáveis.\n",
    "\n",
    "\n",
    "\n",
    "d) Para mostrar que um determinado problema está em N P, basta apresentar um algoritmo não-determinista que execute em tempo polinomial para resolver o problema.\n",
    "\n",
    "\n",
    "e) P denota o conjunto de problemas que podem ser resolvidos em tempo polinomial por uma máquina de Turing determinística. Qualquer problema deste conjunto pode ser resolvido por um algoritmo com tempo de execução O(n^{k}), (com k constante).\n",
    "\n",
    "NP denota o conjunto de problemas que são decidíveis em tempo polinomial por uma máquina de Turing não-determinística. Uma definição equivalente é o conjunto de problemas de decisão que podem ter seu certificado verificado em tempo polinomial por uma máquina de Turing determinística.\n",
    "\n",
    "f) É importante pois podemos subdividir problemas desconhecidos em problemas que possuem mais base teórica como por exemplo o problema Cobertura-Pequena é polinomialmente redutível ao problema Circuito-Hamiltoniano.\n",
    "\n",
    "\n",
    "g) Um problema X é  NP-difícil  se todos os problemas da classe NP são polinomialmente redutíveis a X, isto é, se X ≽ Y para todo Y em NP.  Um problema é  NP-completo  se for NP-difícil e estiver em NP. Se P  diferente de NP, NP-difícil intersecta com NP, e essa intersecção forma a classe NP-completo\n"
   ]
  },
  {
   "cell_type": "markdown",
   "metadata": {},
   "source": [
    "# Exercício 2"
   ]
  },
  {
   "cell_type": "markdown",
   "metadata": {},
   "source": [
    "# Exercício 3\n",
    "\n",
    ">Explique os problemas 3SAT e CLIQUE. Considere que 3SAT pertence a classe 𝒩𝒫-Completo. Prove que o CLIQUE pertence a classe 𝒩𝒫-Completo.\n",
    "\n",
    "O problema de clique de um grafo consiste em encontrar subgrafos completos de um grafo G. Um grafo completo tem todos seus vértices sendo vizinhos uns dos outros.\n",
    "\n",
    "O 3SAT é uma simplificação do SAT, que consiste em encontrar uma solução para uma expressão booleana de cláusulas com váriaveis. O 3SAT restringe o número de variáveis em uma cláusula para 3.\n",
    "\n",
    "Sabendo que 3SAT pertence a NP-Completo, para provar que o problema de clique é NP-Completo, pode mostrar a equivalência entre um problema e outro. Para isso, deve-se construir um grafo G tal que uma instância $\\phi = C_1 \\land C_2 \\land ... \\land C_k$ do 3SAT é satisfazível se G tem um clique de tamanho k.\n",
    "\n",
    "Cada cláusula $C_r = l^r_1 \\lor l^r_2 \\lor l^r_3$ corresponde a uma tripla de vértices $v^r_1$, $v^r_2$ e $v^r_3$ em V de um grafo $G = (V, E)$. Arestas são criadas entre vértices $v^r_i$ e $v^r_j$ se ambos estão em triplas diferentes e seus literais correspondentes são consistentes.\n",
    "\n",
    "Supondo que $\\phi$ é satisfazível, então cada cláusula $C_r$ tem pelo menos um literal $l^r_i$ com valor 1, e cada literal é correspondente ao vértice $v^r_i$.\n",
    "\n",
    "Ao dar um dos literais como verdadeiro de cada cláusula, um conjunto $V'$ de k vértices é criado.\n",
    "\n",
    "Ao afirmar que $V'$ é um clique, então cada par de vértices $v^r_i$ e $v^r_j$ em $V'$ são equivalentes a 1 na satisfabilidade, então possuem uma aresta em G.\n",
    "\n",
    "Qualquer variável não correspondente a vértices no clique são afetam a satisfabilidade de $\\phi$."
   ]
  },
  {
   "cell_type": "markdown",
   "metadata": {},
   "source": [
    "# Exercício 4\n",
    "\n",
    "> Escolha um problema que pertence a classe 𝒩𝒫 faça a sua programação em python e mostre graficamente a complexidade de tempo deste algoritmo em relação o crescimento da entrada.\n",
    "\n",
    "Foi escolhido o problema do ciclo Hamiltoniano, NP-completo. O algoritmo escolhido para resolvê-lo é de força-bruta: testa todos os possíveis caminhos no grafo utilizando uma busca de profundidade."
   ]
  },
  {
   "cell_type": "code",
   "execution_count": 43,
   "metadata": {},
   "outputs": [
    {
     "data": {
      "text/plain": [
       "Text(0.5, 1.0, 'Tempo de verificação de existência de Ciclo Hamiltoniano em um grafo aleatório de tamanho n')"
      ]
     },
     "execution_count": 43,
     "metadata": {},
     "output_type": "execute_result"
    },
    {
     "data": {
      "image/png": "[encoded data removed]",
      "text/plain": [
       "<Figure size 432x288 with 1 Axes>"
      ]
     },
     "metadata": {
      "needs_background": "light"
     },
     "output_type": "display_data"
    }
   ],
   "source": [
    "import random\n",
    "import time\n",
    "import matplotlib.pyplot as plt\n",
    "\n",
    "random.seed(1)\n",
    "\n",
    "def hamiltoniano(G, v=None, caminho=None):\n",
    "    if caminho is None:\n",
    "        caminho = set()\n",
    "\n",
    "    if v in caminho:\n",
    "        return all(u in caminho for u in G.keys())\n",
    "\n",
    "    if v is None:\n",
    "        vizinhos = G.keys()\n",
    "    else:\n",
    "        vizinhos = G[v]\n",
    "        caminho = caminho.copy()\n",
    "        caminho.add(v)\n",
    "\n",
    "    return any(hamiltoniano(G, u, caminho) for u in vizinhos)\n",
    "\n",
    "def grafoAleatorio(n, p=0.25):\n",
    "    return {v: list(filter(lambda x: random.random() >= p and x != v, range(n))) for v in range(n)}\n",
    "\n",
    "def temporizar(f, *args):\n",
    "    start = time.time()\n",
    "    r = f(*args)\n",
    "    end = time.time()\n",
    "    return end-start\n",
    "\n",
    "tamanhos = list(range(0, 500, 5))\n",
    "tempo = [temporizar(hamiltoniano, grafoAleatorio(n)) for n in tamanhos]\n",
    "fig, ax = plt.subplots()\n",
    "ax.plot(tamanhos, tempo)\n",
    "ax.set_xlabel('vértices')\n",
    "ax.set_ylabel('tempo')\n",
    "ax.set_title(\"Tempo de verificação de existência de Ciclo Hamiltoniano em um grafo aleatório de tamanho n\")\n"
   ]
  }
 ],
 "metadata": {
  "kernelspec": {
   "display_name": "Python 3.10.5 64-bit (system)",
   "language": "python",
   "name": "python3"
  },
  "language_info": {
   "codemirror_mode": {
    "name": "ipython",
    "version": 3
   },
   "file_extension": ".py",
   "mimetype": "text/x-python",
   "name": "python",
   "nbconvert_exporter": "python",
   "pygments_lexer": "ipython3",
   "version": "3.10.5"
  },
  "orig_nbformat": 4,
  "vscode": {
   "interpreter": {
    "hash": "4cc66910c9c3db0734006928ec0d7d3b21a7ec602977d654bbb50fa4f27966e7"
   }
  }
 },
 "nbformat": 4,
 "nbformat_minor": 2
}
